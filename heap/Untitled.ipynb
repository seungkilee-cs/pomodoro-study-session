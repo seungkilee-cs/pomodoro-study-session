{
 "cells": [
  {
   "cell_type": "code",
   "execution_count": null,
   "id": "vital-charles",
   "metadata": {},
   "outputs": [],
   "source": [
    "from heapq import *\n",
    "    \n",
    "    \n",
    "    def find_k_largest_numbers(nums, k):\n",
    "        result = []\n",
    "        heapq.heapify()\n",
    "        # TODO: Write your code here\n",
    "        return result\n",
    "\n",
    "\n",
    "    def main():\n",
    "        print(\"Here are the top K numbers: \" +\n",
    "            str(find_k_largest_numbers([3, 1, 5, 12, 2, 11], 3)))\n",
    "\n",
    "        print(\"Here are the top K numbers: \" +\n",
    "            str(find_k_largest_numbers([5, 12, 11, -1, 12], 3)))\n",
    "\n",
    "\n",
    "#         main()"
   ]
  }
 ],
 "metadata": {
  "kernelspec": {
   "display_name": "Python 3",
   "language": "python",
   "name": "python3"
  },
  "language_info": {
   "codemirror_mode": {
    "name": "ipython",
    "version": 3
   },
   "file_extension": ".py",
   "mimetype": "text/x-python",
   "name": "python",
   "nbconvert_exporter": "python",
   "pygments_lexer": "ipython3",
   "version": "3.9.2"
  }
 },
 "nbformat": 4,
 "nbformat_minor": 5
}
