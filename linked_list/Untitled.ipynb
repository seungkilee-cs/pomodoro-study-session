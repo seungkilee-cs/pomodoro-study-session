{
 "cells": [
  {
   "cell_type": "code",
   "execution_count": 34,
   "id": "injured-attraction",
   "metadata": {},
   "outputs": [],
   "source": [
    "class LinkedListNode(object):\n",
    "\n",
    "    def __init__(self, value):\n",
    "        self.value = value\n",
    "        self.next  = None\n",
    "    \n",
    "    def printNode(self):\n",
    "        print(self.value)\n",
    "        if self.next:\n",
    "            self.next.printNode()"
   ]
  },
  {
   "cell_type": "code",
   "execution_count": 35,
   "id": "surgical-telling",
   "metadata": {},
   "outputs": [],
   "source": [
    "def printList(node) -> None:\n",
    "    while node:\n",
    "        print(node.value)\n",
    "        node = node.next"
   ]
  },
  {
   "cell_type": "code",
   "execution_count": 51,
   "id": "heard-receptor",
   "metadata": {},
   "outputs": [],
   "source": [
    "def delete_node(node) -> None:\n",
    "    # Set a dummy for the next node to track\n",
    "    next_node = node.next\n",
    "    # if this is not the tail, shift the value and ptr\n",
    "    if next_node:\n",
    "        node.value = next_node.value\n",
    "        node.next = next_node.next\n",
    "    # if it is the tail, no need to change ptr\n",
    "    else:\n",
    "        node = None"
   ]
  },
  {
   "cell_type": "code",
   "execution_count": 52,
   "id": "casual-teens",
   "metadata": {},
   "outputs": [],
   "source": [
    "a = LinkedListNode('A')\n",
    "b = LinkedListNode('B')\n",
    "c = LinkedListNode('C')\n",
    "d = LinkedListNode('D')\n",
    "\n",
    "a.next = b\n",
    "b.next = c\n",
    "c.next = d"
   ]
  },
  {
   "cell_type": "code",
   "execution_count": 58,
   "id": "endless-phoenix",
   "metadata": {},
   "outputs": [
    {
     "name": "stdout",
     "output_type": "stream",
     "text": [
      "D\n"
     ]
    }
   ],
   "source": [
    "# delete_node(c)\n",
    "printList(d)"
   ]
  },
  {
   "cell_type": "code",
   "execution_count": 59,
   "id": "sixth-tablet",
   "metadata": {},
   "outputs": [
    {
     "name": "stderr",
     "output_type": "stream",
     "text": [
      "C:\\Users\\seung\\AppData\\Roaming\\jupyter\\runtime\\kernel-8acb947e-2fca-4152-84e7-b8eec6454984 (unittest.loader._FailedTest) ... ERROR\n",
      "\n",
      "======================================================================\n",
      "ERROR: C:\\Users\\seung\\AppData\\Roaming\\jupyter\\runtime\\kernel-8acb947e-2fca-4152-84e7-b8eec6454984 (unittest.loader._FailedTest)\n",
      "----------------------------------------------------------------------\n",
      "AttributeError: module '__main__' has no attribute 'C:\\Users\\seung\\AppData\\Roaming\\jupyter\\runtime\\kernel-8acb947e-2fca-4152-84e7-b8eec6454984'\n",
      "\n",
      "----------------------------------------------------------------------\n",
      "Ran 1 test in 0.001s\n",
      "\n",
      "FAILED (errors=1)\n"
     ]
    },
    {
     "ename": "SystemExit",
     "evalue": "True",
     "output_type": "error",
     "traceback": [
      "An exception has occurred, use %tb to see the full traceback.\n",
      "\u001b[1;31mSystemExit\u001b[0m\u001b[1;31m:\u001b[0m True\n"
     ]
    },
    {
     "name": "stderr",
     "output_type": "stream",
     "text": [
      "C:\\Users\\seung\\AppData\\Roaming\\Python\\Python39\\site-packages\\IPython\\core\\interactiveshell.py:3445: UserWarning: To exit: use 'exit', 'quit', or Ctrl-D.\n",
      "  warn(\"To exit: use 'exit', 'quit', or Ctrl-D.\", stacklevel=1)\n"
     ]
    }
   ],
   "source": [
    "import unittest\n",
    "\n",
    "\n",
    "def delete_node(input_node) -> None:\n",
    "    if not input_node:\n",
    "        return\n",
    "    # Set a dummy for the next node to track\n",
    "    dummy = node.next\n",
    "    # if this is not the tail, shift the value and ptr\n",
    "    if dummy:\n",
    "        node.value = dummy.value\n",
    "        node.next = dummy.next\n",
    "    # if it is the tail, no need to change ptr\n",
    "    else:\n",
    "        node = None\n",
    "\n",
    "# Tests\n",
    "\n",
    "class Test(unittest.TestCase):\n",
    "\n",
    "    class LinkedListNode(object):\n",
    "\n",
    "        def __init__(self, value, next=None):\n",
    "            self.value = value\n",
    "            self.next  = next\n",
    "\n",
    "        def get_values(self):\n",
    "            node = self\n",
    "            values = []\n",
    "            while node is not None:\n",
    "                values.append(node.value)\n",
    "                node = node.next\n",
    "            return values\n",
    "\n",
    "    def setUp(self):\n",
    "        self.fourth = Test.LinkedListNode(4)\n",
    "        self.third = Test.LinkedListNode(3, self.fourth)\n",
    "        self.second = Test.LinkedListNode(2, self.third)\n",
    "        self.first = Test.LinkedListNode(1, self.second)\n",
    "\n",
    "    def test_node_at_beginning(self):\n",
    "        delete_node(self.first)\n",
    "        actual = self.first.get_values()\n",
    "        expected = [2, 3, 4]\n",
    "        self.assertEqual(actual, expected)\n",
    "\n",
    "    def test_node_in_middle(self):\n",
    "        delete_node(self.second)\n",
    "        actual = self.first.get_values()\n",
    "        expected = [1, 3, 4]\n",
    "        self.assertEqual(actual, expected)\n",
    "\n",
    "    def test_node_at_end(self):\n",
    "        with self.assertRaises(Exception):\n",
    "            delete_node(self.fourth)\n",
    "\n",
    "    def test_one_node_in_list(self):\n",
    "        unique = Test.LinkedListNode(1)\n",
    "        with self.assertRaises(Exception):\n",
    "            delete_node(unique)\n",
    "\n",
    "\n",
    "unittest.main(verbosity=2)"
   ]
  },
  {
   "cell_type": "code",
   "execution_count": 63,
   "id": "seeing-celebrity",
   "metadata": {},
   "outputs": [],
   "source": [
    "class TreeNode(object):\n",
    "\n",
    "    def __init__(self, value):\n",
    "        self.value = value\n",
    "        self.right = None\n",
    "        self.left  = None\n",
    "        \n",
    "    def getMax(self):\n",
    "        node = self\n",
    "        while node:\n",
    "            node = node.right\n",
    "        return node\n",
    "    \n",
    "    def getMin(self):\n",
    "        node = self\n",
    "        while node:\n",
    "            node = node.left\n",
    "        return node"
   ]
  },
  {
   "cell_type": "code",
   "execution_count": 64,
   "id": "heard-specification",
   "metadata": {},
   "outputs": [],
   "source": [
    "def printTree(treeNode):\n",
    "    print(treeNode.value)\n",
    "    printTree(treeNode.right)\n",
    "    printTree(treeNode.left)"
   ]
  },
  {
   "cell_type": "code",
   "execution_count": null,
   "id": "funny-thunder",
   "metadata": {},
   "outputs": [],
   "source": [
    "t1 = TreeNode()"
   ]
  },
  {
   "cell_type": "code",
   "execution_count": null,
   "id": "daily-plate",
   "metadata": {},
   "outputs": [],
   "source": [
    "def mergeBST(t1, t2):\n",
    "    "
   ]
  }
 ],
 "metadata": {
  "kernelspec": {
   "display_name": "Python 3",
   "language": "python",
   "name": "python3"
  },
  "language_info": {
   "codemirror_mode": {
    "name": "ipython",
    "version": 3
   },
   "file_extension": ".py",
   "mimetype": "text/x-python",
   "name": "python",
   "nbconvert_exporter": "python",
   "pygments_lexer": "ipython3",
   "version": "3.9.2"
  }
 },
 "nbformat": 4,
 "nbformat_minor": 5
}
