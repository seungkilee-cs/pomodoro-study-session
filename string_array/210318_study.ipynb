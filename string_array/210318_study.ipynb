{
 "cells": [
  {
   "cell_type": "code",
   "execution_count": 13,
   "id": "bridal-chrome",
   "metadata": {},
   "outputs": [],
   "source": [
    "# return none because when you return you add to the set\n",
    "def permutate(keep: str, perm: str, res: set()) -> None:\n",
    "#     print(\"keep: {} | perm: {}\".format(keep, perm))\n",
    "    # Base case\n",
    "    # When remainder of the keeping array\n",
    "    if not keep:\n",
    "        # add the current permutation to the set to return\n",
    "#         print(\"Added: {}\".format(perm))\n",
    "        res.add(perm)\n",
    "        return res\n",
    " \n",
    "    for i in range(len(keep)):\n",
    "        # Perm represents the array where you place the \"start character\". It should always start with empty string, then place the first char, get all \n",
    "        newPerm  = perm + keep[i]\n",
    "        # \"keep\" is the \n",
    "        newKeep = keep[0:i] + keep[i+1:]\n",
    "        \n",
    "        permutate(newKeep, newPerm, res)"
   ]
  },
  {
   "cell_type": "code",
   "execution_count": 14,
   "id": "eleven-value",
   "metadata": {},
   "outputs": [],
   "source": [
    "res = set()\n",
    "permutate(\"ABC\", \"\", res)"
   ]
  },
  {
   "cell_type": "code",
   "execution_count": 15,
   "id": "solar-opposition",
   "metadata": {},
   "outputs": [
    {
     "data": {
      "text/plain": [
       "{'ABC', 'ACB', 'BAC', 'BCA', 'CAB', 'CBA'}"
      ]
     },
     "execution_count": 15,
     "metadata": {},
     "output_type": "execute_result"
    }
   ],
   "source": [
    "res"
   ]
  },
  {
   "cell_type": "code",
   "execution_count": null,
   "id": "ordinary-serve",
   "metadata": {},
   "outputs": [],
   "source": [
    "def get_permutations(string):\n",
    "    # Base case\n",
    "    if not string:\n",
    "        return set([string])\n",
    "\n",
    "    all_chars_except_last = string[:-1]\n",
    "    last_char = string[-1]\n",
    "\n",
    "    # Recursive call: get all possible permutations for all chars except last\n",
    "    permutations_of_all_chars_except_last = get_permutations(all_chars_except_last)\n",
    "\n",
    "    # Put the last char in all possible positions for each of\n",
    "    # the above permutations\n",
    "    permutations = set()\n",
    "    for permutation_of_all_chars_except_last in permutations_of_all_chars_except_last:\n",
    "        for position in range(len(all_chars_except_last) + 1):\n",
    "            permutation = (\n",
    "                permutation_of_all_chars_except_last[:position]\n",
    "                + last_char\n",
    "                + permutation_of_all_chars_except_last[position:]\n",
    "            )\n",
    "            permutations.add(permutation)\n",
    "\n",
    "    return permutations"
   ]
  }
 ],
 "metadata": {
  "kernelspec": {
   "display_name": "Python 3",
   "language": "python",
   "name": "python3"
  },
  "language_info": {
   "codemirror_mode": {
    "name": "ipython",
    "version": 3
   },
   "file_extension": ".py",
   "mimetype": "text/x-python",
   "name": "python",
   "nbconvert_exporter": "python",
   "pygments_lexer": "ipython3",
   "version": "3.9.2"
  }
 },
 "nbformat": 4,
 "nbformat_minor": 5
}
