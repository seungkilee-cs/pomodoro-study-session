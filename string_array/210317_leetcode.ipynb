{
 "cells": [
  {
   "cell_type": "markdown",
   "id": "ongoing-county",
   "metadata": {},
   "source": [
    "# 210317 Leetcode"
   ]
  },
  {
   "cell_type": "markdown",
   "id": "advisory-myrtle",
   "metadata": {},
   "source": [
    "## Problem\n",
    "\n",
    "[Leetcode Link Here](leetcode.com/problems/maximum-subarray)\n",
    "\n",
    "Given an integer array nums, find the contiguous subarray (containing at least one number) which has the largest sum and return its sum.\n",
    "\n",
    " \n",
    "\n",
    "Example 1:\n",
    "```\n",
    "Input: nums = [-2,1,-3,4,-1,2,1,-5,4]\n",
    "Output: 6\n",
    "Explanation: [4,-1,2,1] has the largest sum = 6.\n",
    "```\n",
    "\n",
    "Example 2:\n",
    "```\n",
    "Input: nums = [1]\n",
    "Output: 1\n",
    "```\n",
    "Example 3:\n",
    "```\n",
    "Input: nums = [5,4,-1,7,8]\n",
    "Output: 23\n",
    " ```\n",
    "\n",
    "Constraints:\n",
    "```\n",
    "1 <= nums.length <= 3 * 104\n",
    "-105 <= nums[i] <= 105\n",
    "```\n",
    "\n",
    "Follow up: If you have figured out the O(n) solution, try coding another solution using the divide and conquer approach, which is more subtle."
   ]
  },
  {
   "cell_type": "markdown",
   "id": "promotional-burton",
   "metadata": {},
   "source": [
    "## Observation\n",
    "1. If I do this brute force, I will have to compare every single contiguous sum. This would be $O(n^2)$ time\n",
    "2. The bottleneck here comes from the algorithm to get the maximum contiguous sum at each point. How can I reduce this?\n",
    "3. Note that I am checking for the largest sum, which is a computed value that can be encoded to one integer.\n",
    "4. If the next number is negative, then I know I can stop at current index to add to the contiguous sum. This \"Window\" has reached its local maximum. Even if the next.next number is massive, it would yield me better sum if I start from next.next rather than continue the sum.\n",
    "5. When I stop at this current index, I know mathematically I can disregard everything up to that point by the loosely defined proof below.\n",
    "6. With observation 5 I can always know the maximum contiguous array that contains current index value.\n",
    "7. However I cannot always guarantee that I know the global maximum value even if I have the local maximum.\n",
    "\n",
    "### Proof of Lcal Maximum  \n",
    "\n",
    "let n be size of the array  \n",
    "let m be arbitrary midway point such that $0 < m < n$  \n",
    "If so, the below must hold  \n",
    "\n",
    "$\\Sigma_{i=0}^{m} f(i) + f({m+1}) < \\Sigma_{i=0}^{n} f(i)$  \n",
    "$\\rightarrow f({m+1}) > 0$  \n",
    "$\\rightarrow \\Sigma_{i=0}^{n} < \\Sigma_{i=m+1}^{n}$  \n",
    "$\\therefore$ , we know that we can discard everything to the left of current index if `sum(arr[0:m]) + arr[m+1]` < `arr[m+1]`"
   ]
  },
  {
   "cell_type": "markdown",
   "id": "hungarian-agreement",
   "metadata": {},
   "source": [
    "## Approach\n",
    "1. set the first element of the array as our local/global maximum\n",
    "2. as I traverse the array, check if sum of current local maximum and current value is greater than the current value and place the larger value in local maximum. If n is larger than the sum, it would mean we need to restart the window because previous localMax must've contained negative number and we benefit from a brand new window starting from n.\n",
    "3. Check if the current local maximum is greater than the current global maximum to update it.\n",
    "\n",
    "**This is the same concept as the kadane's algorithm, just optimized with python slicing to increase legibility and succinctness**"
   ]
  },
  {
   "cell_type": "markdown",
   "id": "partial-gibson",
   "metadata": {},
   "source": [
    "## Code"
   ]
  },
  {
   "cell_type": "code",
   "execution_count": 1,
   "id": "surface-twist",
   "metadata": {},
   "outputs": [],
   "source": [
    "def maxSubArray(nums: [int]) -> int:\n",
    "        # null case handling\n",
    "        if not nums: return 0\n",
    "        \n",
    "        globalMax = localMax = nums[0]\n",
    "        \n",
    "        # start traversing from 1 for cleaner code\n",
    "        for n in nums[1:]:\n",
    "            # Restart Window or Continue Accumulation\n",
    "            localMax = max(localMax + n, n)\n",
    "            # If local maximum is larger than global maximum, update\n",
    "            globalMax = max(globalMax, localMax)\n",
    "        \n",
    "        return globalMax     "
   ]
  },
  {
   "cell_type": "markdown",
   "id": "indie-blackberry",
   "metadata": {},
   "source": [
    "## Test"
   ]
  },
  {
   "cell_type": "code",
   "execution_count": 2,
   "id": "naughty-shopping",
   "metadata": {},
   "outputs": [
    {
     "name": "stdout",
     "output_type": "stream",
     "text": [
      "PASS\n",
      "PASS\n",
      "PASS\n",
      "PASS\n"
     ]
    }
   ],
   "source": [
    "def assertTest(actual, expected):\n",
    "    if actual == expected:\n",
    "        print(\"PASS\")\n",
    "    else: \n",
    "        print(\"FAIL\")\n",
    "\n",
    "\n",
    "nums1 = [-2,1,-3,4,-1,2,1,-5,4]\n",
    "nums2 = [1]\n",
    "nums3 = [5,4,-1,7,8]\n",
    "nums4 = []\n",
    "\n",
    "actual1 = maxSubArray(nums1)\n",
    "actual2 = maxSubArray(nums2)\n",
    "actual3 = maxSubArray(nums3)\n",
    "actual4 = maxSubArray(nums4)\n",
    "\n",
    "expected1 = 6\n",
    "expected2 = 1\n",
    "expected3 = 23\n",
    "expected4 = 0\n",
    "\n",
    "assertTest(actual1, expected1)\n",
    "assertTest(actual2, expected2)\n",
    "assertTest(actual3, expected3)\n",
    "assertTest(actual4, expected4)"
   ]
  },
  {
   "cell_type": "markdown",
   "id": "prompt-dayton",
   "metadata": {},
   "source": [
    "# State\n",
    "It's counter intuitive that we can ignore the previous values of the sum completely when the current value `n` is larger than `localMax + n`.  \n",
    "This is thanks to the `globalMax` value that's caching the global maximum regardless of the updated localMax.  \n",
    "See the state below. You will notice that the `localMaximum` window restarts at the last element 4, but our `globalMax` is still holding 6 which was the localMax from two windows ago.\n",
    "\n",
    "```\n",
    "nums = [-2,1,-3,4,-1,2,1,-5,4]\n",
    "locM = [-2,1,-2,4, 3,5,6, 1,4]\n",
    "gloM = [-2,1, 1,4, 4,5,6, 6,6]\n",
    "```\n",
    "\n",
    "One thing that may help the understanding of this process is understanding what local max and global max actually does.\n",
    "\n",
    "The local max is used to determine where we can **\"restart\"** the window we look at.  \n",
    "The global max is used to determine where we need to **\"cut off\"** the window.  \n",
    "The algorithm is simple optimization from the brute force $O(n^2)$ approach, because all we are doing is restarting the window of contiguous array to limit the computation of the sum to the arrays that have **possibility** of being a maximum. And then, we use the global maximum to merely compare the new local max value to the max we had so far."
   ]
  },
  {
   "cell_type": "markdown",
   "id": "aggregate-found",
   "metadata": {},
   "source": [
    "## Complexity\n",
    "\n",
    "### Time\n",
    "We are only going through the array of numbers once, so the loop takes `O(n)`. Then, the max comparisons we have only compares two values which is `O(2) \\approx O(1)` asymptotically. The dominant term is `O(n)` thus the algorithm has linear time.\n",
    "\n",
    "### Space\n",
    "We are creating two variables that takes one integer and only update them. This is `O(1)` space."
   ]
  },
  {
   "cell_type": "markdown",
   "id": "champion-electricity",
   "metadata": {},
   "source": [
    "## Performance\n",
    "```\n",
    "Runtime:      60 ms, faster than 91.95% of Python3 online submissions for Maximum Subarray.\n",
    "Memory Usage: 14.8 MB, less than 82.12% of Python3 online submissions for Maximum Subarray.\n",
    "```"
   ]
  }
 ],
 "metadata": {
  "kernelspec": {
   "display_name": "Python 3",
   "language": "python",
   "name": "python3"
  },
  "language_info": {
   "codemirror_mode": {
    "name": "ipython",
    "version": 3
   },
   "file_extension": ".py",
   "mimetype": "text/x-python",
   "name": "python",
   "nbconvert_exporter": "python",
   "pygments_lexer": "ipython3",
   "version": "3.9.2"
  }
 },
 "nbformat": 4,
 "nbformat_minor": 5
}
