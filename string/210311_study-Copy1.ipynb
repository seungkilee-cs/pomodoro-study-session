{
 "cells": [
  {
   "cell_type": "markdown",
   "id": "dynamic-mention",
   "metadata": {},
   "source": [
    "# 2021/03/11 (Th) Study Session Questions"
   ]
  },
  {
   "cell_type": "markdown",
   "id": "everyday-nature",
   "metadata": {},
   "source": [
    "# 1. Reverse Sentence"
   ]
  },
  {
   "cell_type": "markdown",
   "id": "ideal-contest",
   "metadata": {},
   "source": [
    "## Problem\n",
    "\n",
    "Your team is scrambling to decipher a recent message, worried it's a plot to break into a major European National Cake Vault. The message has been mostly deciphered, but all the words are backward! Your colleagues have handed off the last step to you.\n",
    "\n",
    "> Write a function reverse_words() that takes a message as a list of characters and reverses the order of the words in place.\n",
    "\n",
    "Why a list of characters instead of a string?\n",
    "The goal of this question is to practice manipulating strings in place. Since we're modifying the message, we need a mutable ↴ type like a list, instead of Python 3.6's immutable strings.\n",
    "For example:\n",
    "```python\n",
    "message = [ 'c', 'a', 'k', 'e', ' ',\n",
    "            'p', 'o', 'u', 'n', 'd', ' ',\n",
    "            's', 't', 'e', 'a', 'l' ]\n",
    "\n",
    "reverse_words(message)\n",
    "\n",
    "# Prints: 'steal pound cake'\n",
    "print(''.join(message))\n",
    "```"
   ]
  },
  {
   "cell_type": "markdown",
   "id": "armed-antenna",
   "metadata": {},
   "source": [
    "## Observation\n",
    "1. words are delimited by whitespace characters\n",
    "2. If we take no constraint approach, the most memory expensive operation is storing the entire word before placing it in the right part of the sentence."
   ]
  },
  {
   "cell_type": "markdown",
   "id": "suffering-copper",
   "metadata": {},
   "source": [
    "## Approach\n",
    "\n",
    "With no contraints, I would do the following.\n",
    "```python\n",
    "def reverseWord(word: [str]) -> str:\n",
    "    return ''.join(word).split()[::-1]\n",
    "```\n",
    "\n",
    "lovely python magic that turns `[str]` to `str` then split it on white space char, then slice it backwards. Take O(N) Time O(N) space.\n",
    "\n",
    "The tricky part about this is doing it `in-place` which means no additional memory that grows with size of the input - not necessarily no auxiliary variable. We've observed that storing an entire word to place in the right part of the sentence does not work. To avoid storing a whole word, we need a way to keep the word data without actually holding the word. This can be done by holding on to the start and end indices of a word. later we can access the word by giving it `message[word_start:word_end]` \n",
    "\n",
    "Then comes swapping the word into the right place. Best way to swap the location of structured date in-place is by buffer and replace three way swap that follows:\n",
    "1. place elemA in the buffer\n",
    "2. place elemB in position of elemA\n",
    "3. place the buffer into elemB?\n",
    "4. do this until the swap termination condition is met.\n",
    "\n",
    "Based on this and the no constraint approach, my intuition is to:\n",
    "1. reverse the entire array\n",
    "2. have two ptrs, start/end of a word\n",
    "3. move end until end hits an whitespace character\n",
    "4. once it encounters a whitespace character, reverse the subarray that contains the word\n",
    "5. move start to the start of a new word\n",
    "6. repeat this until you are done with the reversed string"
   ]
  },
  {
   "cell_type": "markdown",
   "id": "failing-bulgarian",
   "metadata": {},
   "source": [
    "## Code"
   ]
  },
  {
   "cell_type": "code",
   "execution_count": 1,
   "id": "unnecessary-affect",
   "metadata": {},
   "outputs": [],
   "source": [
    "# Utility function for reversing a \"word\" in sentence -> really just reversing a string\n",
    "def reverseString(word: [str]) -> [str]:\n",
    "    buffer, start, end = '', 0, len(word)-1\n",
    "    \n",
    "    while start < end:\n",
    "        buffer = word[start]\n",
    "        word[start] = word[end]\n",
    "        word[end] = buffer\n",
    "        start += 1\n",
    "        end -= 1\n",
    "    return word\n",
    "\n",
    "# Main function\n",
    "def reverseWord(message: [str]) -> str:\n",
    "    # 1. reverse the entire array\n",
    "    message = reverseString(message)\n",
    "    # 2. have two ptrs, start/end of a word\n",
    "    start, end, messageSize = 0, 0, len(message)\n",
    "    # 6. repeat this until you are done with the reversed string\n",
    "    while end < messageSize:\n",
    "        # 4. once it encounters a whitespace character, reverse the subarray that contains the word\n",
    "        if message[end] == ' ':\n",
    "            message[start:end] = reverseString(message[start:end])\n",
    "            # 5. move start to the start of a new word\n",
    "            start = end + 1\n",
    "        # 3. move end until end hits an whitespace character\n",
    "        end += 1\n",
    "    # Because the last char of the array is not ' ', last word has not been fliped. Manually do this outside to loop.\n",
    "    message[start:end] = reverseString(message[start:end])\n",
    "    return ''.join(message)"
   ]
  },
  {
   "cell_type": "markdown",
   "id": "noble-tactics",
   "metadata": {},
   "source": [
    "## Test"
   ]
  },
  {
   "cell_type": "code",
   "execution_count": 2,
   "id": "genetic-blackjack",
   "metadata": {},
   "outputs": [
    {
     "name": "stdout",
     "output_type": "stream",
     "text": [
      "actual  : steal pound cake\n",
      "True\n"
     ]
    }
   ],
   "source": [
    "message  = [ 'c', 'a', 'k', 'e', ' ',\n",
    "            'p', 'o', 'u', 'n', 'd', ' ',\n",
    "            's', 't', 'e', 'a', 'l' ]\n",
    "expected = \"steal pound cake\"\n",
    "actual   = reverseWord(message)\n",
    "print(\"actual  : \" + actual)\n",
    "print(actual == expected)"
   ]
  },
  {
   "cell_type": "markdown",
   "id": "greatest-appointment",
   "metadata": {},
   "source": [
    "## Complexity\n",
    "\n",
    "### Time\n",
    "`O(n)` I am going through all elements once in the main while loop, then n/2 times when I am swapping the word. The dominant term here is the cost of the main while loop that loops through the entire message array, thus the time complexity is `O(n)`\n",
    "\n",
    "*ignoring the cost for joining the array, because it takes O(n) and we already take it as a fixed cost*\n",
    "\n",
    "### Space\n",
    "`O(1)` We need 4 ptrs total. 2 to reverse a full word, and 2 to keep track of the word's position in the message. The implementation above seeks to reduce constant time operation of calculating len(message) by caching its value because this calculation happens N times. As the size of memory required for reverseWord() does not grow with the size of N, this is constant space `O(1)` operation."
   ]
  },
  {
   "cell_type": "markdown",
   "id": "partial-flower",
   "metadata": {},
   "source": [
    "# 2.Merge Array Sorted"
   ]
  },
  {
   "cell_type": "markdown",
   "id": "monthly-homeless",
   "metadata": {},
   "source": [
    "## Problem\n",
    "Each order is represented by an \"order id\" (an integer).\n",
    "We have our lists of orders sorted numerically already, in lists. Write a function to merge our lists of orders into one sorted list.\n",
    "For example:\n",
    "```python\n",
    "my_list     = [3, 4, 6, 10, 11, 15]\n",
    "alices_list = [1, 5, 8, 12, 14, 19]\n",
    "\n",
    "# Prints [1, 3, 4, 5, 6, 8, 10, 11, 12, 14, 15, 19]\n",
    "print(merge_lists(my_list, alices_list))\n",
    "```"
   ]
  },
  {
   "cell_type": "markdown",
   "id": "skilled-princeton",
   "metadata": {},
   "source": [
    "### Observation\n",
    "1. Two lists contain only positive integers\n",
    "2. Two lists are sorted in their own order.\n",
    "3. Two lists are not necessarily of the same length\n",
    "4. I need to visit every element in both lists at least once to merge them completely\n",
    "\n",
    "### Approach\n",
    "\n",
    "#### Brute Force: Merge and Sort\n",
    "I can merge two lists first, then sort the merged list. Assuming we use quicksort, the complexity of this operation becomes `O(n) + O(m) + O((n+m)log(n+m))`, and the overall complexity will be capped by `O((n+m)log(n+m))`. Space complexity is `O(n)` because we will need to increase the size of the larger array by the size of the smaller array in order to append the two.\n",
    "\n",
    "1. merge the two lists\n",
    "2. sort the merged lists\n",
    "\n",
    "As we can assume that the total number of elements to go through would be n+m, we can reasonably assume that this will be `O((2n)log(2n))` which will be `O(nlogn)`.\n",
    "\n",
    "The bottle neck here is simply the complexity of the sort. How do we avoid sorting the merged list?\n",
    "\n",
    "#### Two Pointer Comparison\n",
    "\n",
    "The least time complexity has to be `O(n+m)`, where n and m are respective length of the lists. The length of two lists are not guaranteed to be the same.\n",
    "As a human, I would do the following\n",
    "\n",
    "1. Check the first elements of one array to another\n",
    "2. Place the smaller element in a new, merged array\n",
    "3. For the array where you took the element from, move down one number. \n",
    "4. Make the same comparison to the new element from array 1 and the current element form array 2\n",
    "4. Do this until one of the array is fully traversed\n",
    "5. Append what remains of the array with leftovers to the merged array list"
   ]
  },
  {
   "cell_type": "markdown",
   "id": "alive-perth",
   "metadata": {},
   "source": [
    "## Code"
   ]
  },
  {
   "cell_type": "code",
   "execution_count": 3,
   "id": "enhanced-monster",
   "metadata": {},
   "outputs": [],
   "source": [
    "def mergeThenSort(arr1: [int], arr2:[int]) -> [int]:\n",
    "    merged = arr1+arr2\n",
    "    merged.sort()\n",
    "    return merged"
   ]
  },
  {
   "cell_type": "code",
   "execution_count": 4,
   "id": "informative-black",
   "metadata": {},
   "outputs": [],
   "source": [
    "def mergeTwoPtrCmp(arr1: [int], arr2: [int]) -> [int]:\n",
    "        if not arr1 or not arr2: return arr1+arr2\n",
    "\n",
    "        ptr1, ptr2, merged, len1, len2 = 0, 0, [], len(arr1), len(arr2)\n",
    "        # 5. Do this until one of the array is fully traversed\n",
    "        while ptr1 < len1 and ptr2 < len2:\n",
    "            # 1. Check the first element of one array to another\n",
    "            if arr1[ptr1] <= arr2[ptr2]:\n",
    "                # 2. Place the smaller element in a new, merged array\n",
    "                merged.append(arr1[ptr1])\n",
    "                # 3. For the array where you took the element from, move down one number. \n",
    "                ptr1 += 1\n",
    "            else:\n",
    "                # 2. Place the smaller element in a new, merged array\n",
    "                merged.append(arr2[ptr2])\n",
    "                # 3. For the array where you took the element from, move down one number. \n",
    "                ptr2 += 1\n",
    "        # 5. Append what remains of the array with leftovers to the merged array list\n",
    "        if ptr1 < len1:\n",
    "            merged = merged + arr1[ptr1:]\n",
    "        else:\n",
    "            merged = merged + arr2[ptr2:]\n",
    "        \n",
    "        return merged"
   ]
  },
  {
   "cell_type": "markdown",
   "id": "fifth-adelaide",
   "metadata": {},
   "source": [
    "## Test"
   ]
  },
  {
   "cell_type": "code",
   "execution_count": 5,
   "id": "congressional-politics",
   "metadata": {},
   "outputs": [
    {
     "name": "stdout",
     "output_type": "stream",
     "text": [
      "actual: [1, 3, 4, 5, 6, 8, 10, 11, 12, 14, 15, 19]\n",
      "True\n"
     ]
    }
   ],
   "source": [
    "my_list     = [3, 4, 6, 10, 11, 15]\n",
    "alices_list = [1, 5, 8, 12, 14, 19]\n",
    "expected    = [1, 3, 4, 5, 6, 8, 10, 11, 12, 14, 15, 19]\n",
    "actual      = mergeTwoPtrCmp(my_list,alices_list)\n",
    "print(\"actual: {}\".format(actual))\n",
    "print(actual == expected)"
   ]
  },
  {
   "cell_type": "code",
   "execution_count": 6,
   "id": "popular-minority",
   "metadata": {},
   "outputs": [
    {
     "name": "stdout",
     "output_type": "stream",
     "text": [
      "actual: [1, 3, 4, 5, 6, 8, 10, 11, 12, 14, 15, 19]\n",
      "True\n"
     ]
    }
   ],
   "source": [
    "my_list     = [3, 4, 6, 10, 11, 15]\n",
    "alices_list = [1, 5, 8, 12, 14, 19]\n",
    "expected    = [1, 3, 4, 5, 6, 8, 10, 11, 12, 14, 15, 19]\n",
    "actual      = mergeThenSort(my_list, alices_list)\n",
    "print(\"actual: {}\".format(actual))\n",
    "print(actual == expected)"
   ]
  },
  {
   "cell_type": "markdown",
   "id": "double-ballet",
   "metadata": {},
   "source": [
    "## Complexity\n",
    "\n",
    "### Time\n",
    "- Merge then Sort    : `O((n+m) log (n+m))` because we are sorting a list size of (n+m)\n",
    "- Two Ptr Comparison : `O(n+m)` because we are going over all elements of size n and m exactly once\n",
    "\n",
    "### Space\n",
    "- Merge then Sort    : `O(log(n+m))` because quicksort requires `O(log(n+m))` on the call stack\n",
    "- Two Ptr Comparison : `O(n+m)` because Additional space to copy over the full two arrays"
   ]
  },
  {
   "cell_type": "markdown",
   "id": "continent-obligation",
   "metadata": {},
   "source": [
    "## Follow Up\n",
    "\n",
    "I can reduce the memory usage to `O(m)` of the smaller array. As `len(arr)` has time complexity of `O(1)` I can take the length of two arrays to get the size of the smaller of the two array. Then, append an empty array of size m to the end of larger array. To avoid overwriting the data, I can have three ptrs, one at the last value of larger array `ptr1` and one at the end of the smaller array `ptr2`. Lastly, have a pointer to the end of the large, concatted array `writePtr`. Then, make the comparison from the two pointers pointing at actual values and place the larger element at the location of `writePtr`. This is essentially sorting in a decending order, while traversing backwards. This is to avoid holding values of both arrays separately. If we sort from the start, then we are comparing the values that CANNOT yet be overwritten. By writing from the back of an empty list, we have the buffer to be sure that if any values are overwritten we know those values are already tracked at the later half of the appended list."
   ]
  }
 ],
 "metadata": {
  "kernelspec": {
   "display_name": "Python 3",
   "language": "python",
   "name": "python3"
  },
  "language_info": {
   "codemirror_mode": {
    "name": "ipython",
    "version": 3
   },
   "file_extension": ".py",
   "mimetype": "text/x-python",
   "name": "python",
   "nbconvert_exporter": "python",
   "pygments_lexer": "ipython3",
   "version": "3.9.2"
  }
 },
 "nbformat": 4,
 "nbformat_minor": 5
}
