{
 "cells": [
  {
   "cell_type": "markdown",
   "id": "driven-nation",
   "metadata": {},
   "source": [
    "# Merge Intervals"
   ]
  },
  {
   "cell_type": "markdown",
   "id": "provincial-survivor",
   "metadata": {},
   "source": [
    "mergeable -> if start/end of tupleA is inBetween another tupleB\n",
    "-> One problem is that this results in n^2 time complexity. Because we do not know if the intervals will be sorted\n",
    "\n",
    "end of first is greater than the start of the next meeting"
   ]
  },
  {
   "cell_type": "markdown",
   "id": "played-rates",
   "metadata": {},
   "source": [
    "The bottleneck comes in in running `isMergeable` on all other elements in the array. This happens because we are not guaranteed that an array would be sorted, thus comparing tupleA.end with tupleB.start doesn't always work.\n",
    "\n",
    "So if this is sorted, we can have O(n) time. While the complexity of the sorting "
   ]
  },
  {
   "cell_type": "markdown",
   "id": "sonic-flash",
   "metadata": {},
   "source": [
    "Time complexity for running min(start1,2) max(end1,2) after mergeable is O(n^2)\n",
    "\n",
    "But as Silvana mentioned, if this is sorted, we can do this in O(n) times because we can run the check for each interval. Assuming we use reasonable sorting method we can get O(nlogn), which is still better than quadratic time."
   ]
  },
  {
   "cell_type": "code",
   "execution_count": 1,
   "id": "sonic-williams",
   "metadata": {},
   "outputs": [],
   "source": [
    "def mergeInterval(inputList):\n",
    "    inputList.sort(key=lambda x:x[0])\n",
    "    outputList = []\n",
    "    # mergeable = t1.end >= t2.start // end time of the first meeting is greater than start time of the next meeting\n",
    "    \n",
    "    for t in inputList:\n",
    "        # at the first run, the outputList will be empty so add the current tuple\n",
    "        # assuming sorted, if end interval of the last tuple in the outputList is less than starting index of the current tuple\n",
    "        # we know these are not mergeable (t1.end) < (t2.start), so just add it wholy to the outputList\n",
    "        if not outputList or outputList[-1][1] < t[0]:\n",
    "            outputList.append(tuple(t))\n",
    "        # if it is the first tuple or if it is mergeable, just merge the previous and current interval\n",
    "        # change the end value of the meeting time to max of previous and current meeting time\n",
    "        else:\n",
    "            outputList[-1] = tuple([outputList[-1][0], max(outputList[-1][1], t[1])])\n",
    "    return outputList"
   ]
  },
  {
   "cell_type": "code",
   "execution_count": 2,
   "id": "mobile-campus",
   "metadata": {},
   "outputs": [],
   "source": [
    "testInput = [[0, 1], [3, 5], [4, 8], [10, 12], [9, 10]]\n",
    "expectedOutput = [(0, 1), (3, 8), (9, 12)]"
   ]
  },
  {
   "cell_type": "code",
   "execution_count": 3,
   "id": "female-evaluation",
   "metadata": {},
   "outputs": [
    {
     "data": {
      "text/plain": [
       "True"
      ]
     },
     "execution_count": 3,
     "metadata": {},
     "output_type": "execute_result"
    }
   ],
   "source": [
    "mergeInterval(testInput) == expectedOutput"
   ]
  },
  {
   "cell_type": "markdown",
   "id": "aerial-antibody",
   "metadata": {},
   "source": [
    "# Time Complexity\n",
    "\n",
    "Sorting: O(n log n)  \n",
    "Creating the outputList: O(n)\n",
    "Dominant time is O(n log n)\n",
    "\n",
    "# Space Complexity\n",
    "\n",
    "O(m) for the `m = len(outputList)` that holds merged meeting time"
   ]
  }
 ],
 "metadata": {
  "kernelspec": {
   "display_name": "Python 3",
   "language": "python",
   "name": "python3"
  },
  "language_info": {
   "codemirror_mode": {
    "name": "ipython",
    "version": 3
   },
   "file_extension": ".py",
   "mimetype": "text/x-python",
   "name": "python",
   "nbconvert_exporter": "python",
   "pygments_lexer": "ipython3",
   "version": "3.9.2"
  }
 },
 "nbformat": 4,
 "nbformat_minor": 5
}
