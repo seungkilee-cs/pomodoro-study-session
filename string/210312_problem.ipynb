{
 "cells": [
  {
   "cell_type": "markdown",
   "id": "tight-steal",
   "metadata": {},
   "source": [
    "# 210312 Problem"
   ]
  },
  {
   "cell_type": "markdown",
   "id": "opposed-establishment",
   "metadata": {},
   "source": [
    "My cake shop is so popular, I'm adding some tables and hiring wait staff so folks can have a cute sit-down cake-eating experience.\n",
    "\n",
    "I have two registers: one for take-out orders, and the other for the other folks eating inside the cafe. All the customer orders get combined into one list for the kitchen, where they should be handled first-come, first-served.\n",
    "\n",
    "Recently, some customers have been complaining that people who placed orders after them are getting their food first. Yikes—that's not good for business!\n",
    "\n",
    "To investigate their claims, one afternoon I sat behind the registers with my laptop and recorded:\n",
    "\n",
    "The take-out orders as they were entered into the system and given to the kitchen. (take_out_orders)\n",
    "The dine-in orders as they were entered into the system and given to the kitchen. (dine_in_orders)\n",
    "Each customer order (from either register) as it was finished by the kitchen. (served_orders)\n",
    "Given all three lists, write a function to check that my service is first-come, first-served. All food should come out in the same order customers requested it.\n",
    "\n",
    "We'll represent each customer order as a unique integer.\n",
    "\n",
    "As an example,\n",
    "```\n",
    " Take Out Orders: [1, 3, 5]\n",
    " Dine In Orders : [2, 4, 6]\n",
    " Served Orders  : [1, 2, 4, 6, 5, 3]\n",
    "```\n",
    "would not be first-come, first-served, since order 3 was requested before order 5 but order 5 was served first.\n",
    "\n",
    "But,\n",
    "```\n",
    " Take Out Orders: [17, 8, 24]\n",
    " Dine In Orders : [12, 19, 2]\n",
    " Served Orders  : [17, 8, 12, 19, 24, 2]\n",
    "```\n",
    "would be first-come, first-served.\n",
    "\n",
    "Note: Order numbers are arbitrary. They do not have to be in increasing order."
   ]
  },
  {
   "cell_type": "markdown",
   "id": "preceding-wireless",
   "metadata": {},
   "source": [
    "## Observation\n",
    "\n",
    "1. The order for take out and dine in shares the same queue - they won't have any overlaps\n",
    "2. Both lists can be empty.\n",
    "3. Served order needs to keep the order of respective orders, does not check the priority between the two lists.\n",
    "4. At each point in time, I can always know the two \"next possible order number\" if I want to keep the order within each of the order lists.\n",
    "5. Using pointer to track the possible values would be tricky because we need to check for validity of the data before every access to the array.\n",
    "6. Served Orders is NOT necessarily going to be a union of the take out and dine in - there can be extra order that is not tracked in the system."
   ]
  },
  {
   "cell_type": "markdown",
   "id": "dried-latest",
   "metadata": {},
   "source": [
    "## Approach\n",
    "\n",
    "Now we can't use pointers because that would require `not array` check before every access to the array, and nothing should ever be that cumbersome. With the intuition that I can know the next possible order numbers at all time, I can do the following:\n",
    "\n",
    "1. write a helper function that will get possible order number at each given point. Make sure this function goes from the most specific case to the most general.\n",
    "    - check if both lists are empty, in which case we have gone through all orders successfully\n",
    "    - if one of the two lists are empty, return the first element of the other list\n",
    "    - if not, this means we have value in both lists so return the first element of both lists\n",
    "2. use the helper function to get the possible value\n",
    "3. traverse the array and check if the element is in the possible order list. If not, we know this is not a FCFS order so return False\n",
    "4. once we know the order is valid, check which array it is in. Then, pop the first element from that list using `popleft()`. we know for a fact that on the initial run. This pop() will guarantee that the possible order value will ALWAYS come from the first element in the list, thereby eliminating the need to use pointers at all.\n",
    "5. With shortened list, re-calculate the possible order list\n",
    "6. Once we come out of the loop, check to see if our possible order list have any value in it. If so, we know there's an order not tracked by the take out / dine in system so this is not a valid FCFS."
   ]
  },
  {
   "cell_type": "markdown",
   "id": "extensive-nebraska",
   "metadata": {},
   "source": [
    "## Code"
   ]
  },
  {
   "cell_type": "code",
   "execution_count": 1,
   "id": "statewide-effectiveness",
   "metadata": {},
   "outputs": [],
   "source": [
    "# Utility Function for getting the possible order number list\n",
    "def getPossibleOrder(takeout: [int], dinein: [int]) -> [int]:\n",
    "    # If both are empty\n",
    "    if not takeout and not dinein:\n",
    "        return []\n",
    "    # If one of the two are empty\n",
    "    elif not takeout:\n",
    "        return [dinein[0]]\n",
    "    elif not dinein:\n",
    "        return [takeout[0]]\n",
    "    # Both lists have value\n",
    "    else:\n",
    "        return [takeout[0], dinein[0]]\n",
    "\n",
    "def is_first_come_first_served(take_out_orders: [int], dine_in_orders: [int], served_orders: [int]) -> bool:\n",
    "    \n",
    "    # get initial possible order list\n",
    "    possibleOrder = getPossibleOrder(take_out_orders, dine_in_orders)\n",
    "    \n",
    "    # loop through all elements of the served order\n",
    "    for i, n in enumerate(served_orders):\n",
    "        # if current order is not in the possible order list, it's not valid FCFS\n",
    "        if n not in possibleOrder:\n",
    "            return False\n",
    "        # if the order is valid, deque the fulfilled order from the proper list\n",
    "        elif n in take_out_orders:\n",
    "            take_out_orders.pop(0)\n",
    "        else:\n",
    "            dine_in_orders.pop(0)\n",
    "        # recalculate the possible order\n",
    "        possibleOrder = getPossibleOrder(take_out_orders, dine_in_orders)\n",
    "\n",
    "    # check to see if any order was missed in the system\n",
    "    return not possibleOrder"
   ]
  },
  {
   "cell_type": "markdown",
   "id": "whole-england",
   "metadata": {},
   "source": [
    "## Test"
   ]
  },
  {
   "cell_type": "code",
   "execution_count": 2,
   "id": "sudden-brazil",
   "metadata": {},
   "outputs": [
    {
     "name": "stdout",
     "output_type": "stream",
     "text": [
      "\u001b[32mPASS\u001b[0m\n",
      "\u001b[32mPASS\u001b[0m\n",
      "\u001b[32mPASS\u001b[0m\n",
      "\u001b[32mPASS\u001b[0m\n",
      "\u001b[32mPASS\u001b[0m\n",
      "\u001b[32mPASS\u001b[0m\n",
      "\u001b[32mPASS\u001b[0m\n",
      "\u001b[32mPASS\u001b[0m\n"
     ]
    }
   ],
   "source": [
    "# Install with `pip install termcolor`\n",
    "from termcolor import colored\n",
    "\n",
    "def assertTest(result: bool) -> None:\n",
    "    if result:\n",
    "        print(colored(\"PASS\", \"green\"))\n",
    "    else:\n",
    "        print(colored(\"FAIL\", \"red\"))\n",
    "\n",
    "assertTest(True  == is_first_come_first_served([1, 4, 5],    [2, 3, 6],   [1, 2, 3, 4, 5, 6]))\n",
    "assertTest(False == is_first_come_first_served([1, 5],       [2, 3, 6],   [1, 2, 6, 3, 5]))\n",
    "assertTest(True  == is_first_come_first_served([],           [2, 3, 6],   [2, 3, 6]))\n",
    "assertTest(False == is_first_come_first_served([1, 5],       [2, 3, 6],   [1, 6, 3, 5]))\n",
    "assertTest(False == is_first_come_first_served([1, 5],       [2, 3, 6],   [1, 2, 3, 5, 6, 8]))\n",
    "assertTest(False == is_first_come_first_served([1, 9],       [7, 8],      [1, 7, 8]))\n",
    "assertTest(False == is_first_come_first_served([55, 9],      [7, 8],      [1, 7, 8, 9]))\n",
    "assertTest(True  == is_first_come_first_served([27, 12, 18], [55, 31, 8], [55, 31, 8, 27, 12, 18]))"
   ]
  },
  {
   "cell_type": "markdown",
   "id": "limited-pursuit",
   "metadata": {},
   "source": [
    "## Complexity\n",
    "\n",
    "### Time\n",
    "`O(n)` because we are visiting every element in the `served_orders` exactly once.\n",
    "\n",
    "### Space\n",
    "`O(1)` because we are creating a list that will hold at most 2 elements, which means this does not grow with the size of the input."
   ]
  }
 ],
 "metadata": {
  "kernelspec": {
   "display_name": "Python 3",
   "language": "python",
   "name": "python3"
  },
  "language_info": {
   "codemirror_mode": {
    "name": "ipython",
    "version": 3
   },
   "file_extension": ".py",
   "mimetype": "text/x-python",
   "name": "python",
   "nbconvert_exporter": "python",
   "pygments_lexer": "ipython3",
   "version": "3.9.2"
  }
 },
 "nbformat": 4,
 "nbformat_minor": 5
}
