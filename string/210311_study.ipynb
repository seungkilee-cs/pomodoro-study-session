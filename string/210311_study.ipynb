{
 "cells": [
  {
   "cell_type": "markdown",
   "id": "innocent-wales",
   "metadata": {},
   "source": [
    "# 2021/03/11 Study Session Questions"
   ]
  },
  {
   "cell_type": "markdown",
   "id": "legendary-marketing",
   "metadata": {},
   "source": [
    "## Reverse String\n",
    "\n",
    "Write a function reverse_words() that takes a message as a list of characters and reverses the order of the words in place.\n",
    "\n",
    "> Why a list of characters instead of a string?\n",
    "\n",
    "The goal of this question is to practice manipulating strings in place. Since we're modifying the message, we need a mutable ↴ type like a list, instead of Python 3.6's immutable strings."
   ]
  },
  {
   "cell_type": "code",
   "execution_count": 1,
   "id": "round-landing",
   "metadata": {},
   "outputs": [],
   "source": [
    "# Code\n",
    "## Slicing\n",
    "def reverseWords(message: [str]) -> str:\n",
    "    # can just return message[::-1], python is smart\n",
    "    return ''.join(message[::-1])\n",
    "\n",
    "# Have to go through every element in the array. No additional space is needed\n",
    "# Time Complexity : O(n) //\n",
    "# Space Complexity: O(n) // No additional space needed"
   ]
  },
  {
   "cell_type": "code",
   "execution_count": 2,
   "id": "partial-algeria",
   "metadata": {},
   "outputs": [
    {
     "data": {
      "text/plain": [
       "True"
      ]
     },
     "execution_count": 2,
     "metadata": {},
     "output_type": "execute_result"
    }
   ],
   "source": [
    "# Test\n",
    "targetMsg = 'hello world!'\n",
    "testMsg = ['!', 'd', 'l', 'r', 'o', 'w', ' ', 'o', 'l', 'l', 'e', 'h']\n",
    "reverseWords(testMsg) == targetMsg"
   ]
  },
  {
   "cell_type": "markdown",
   "id": "professional-toolbox",
   "metadata": {},
   "source": [
    "## Merge Array Sorted\n",
    "\n",
    "Each order is represented by an \"order id\" (an integer).\n",
    "We have our lists of orders sorted numerically already, in lists. Write a function to merge our lists of orders into one sorted list.\n",
    "For example:\n",
    "```python\n",
    "my_list     = [3, 4, 6, 10, 11, 15]\n",
    "alices_list = [1, 5, 8, 12, 14, 19]\n",
    "\n",
    "# Prints [1, 3, 4, 5, 6, 8, 10, 11, 12, 14, 15, 19]\n",
    "print(merge_lists(my_list, alices_list))\n",
    "```"
   ]
  },
  {
   "cell_type": "markdown",
   "id": "congressional-amateur",
   "metadata": {},
   "source": [
    "### Observation\n",
    "1. Two lists contain only positive integers\n",
    "2. Two lists are sorted in their own order.\n",
    "3. Two lists are not necessarily of the same length\n",
    "4. I need to visit every element in both lists at least once to merge them completely\n",
    "\n",
    "### Approach\n",
    "\n",
    "#### Brute Force: Merge and Sort\n",
    "I can merge two lists first, then sort the merged list. Assuming we use quicksort, the complexity of this operation becomes O(n) + O(m) + O((n+m)log(n+m)), and the overall complexity will be capped by O((n+m)log(n+m)). Space complexity is O(m) because we will need to increase the size of the larger array by the size of the smaller array in order to append the two.\n",
    "\n",
    "As we can assume that the total number of elements to go through would be n+m, we can reasonably assume that this will be O((2n)log(2n)) which will be O(nlogn).\n",
    "\n",
    "The bottle neck here is simply the complexity of the sort. How do we avoid sorting the merged list?\n",
    "\n",
    "#### two pointer comparison\n",
    "\n",
    "The least time complexity has to be O(n+m), where n and m are respective length of the lists. The length of two lists are not guaranteed to be the same.\n",
    "As a human, I would do the following\n",
    "\n",
    "1. Check the first elements of one array to another\n",
    "2. Place the smaller element in a new, merged array\n",
    "3. For the array where you took the element from, move down one number. \n",
    "4. Make the same comparison to the new element from array 1 and the current element form array 2\n",
    "4. Do this until one of the array is fully traversed\n",
    "5. Append what remains of the array with leftovers to the merged array list\n",
    "\n",
    "Time Complexity : O(n+m) -> traverse both arrays\n",
    "Space Complexity: O(n+m) -> Additional space to copy over the full two arrays"
   ]
  },
  {
   "cell_type": "code",
   "execution_count": 3,
   "id": "invisible-enforcement",
   "metadata": {},
   "outputs": [],
   "source": [
    "def mergeTwoPtrCmp(arr1: [int], arr2: [int]) -> [int]:\n",
    "        if not arr1 or not arr2: return arr1+arr2\n",
    "\n",
    "        ptr1, ptr2, mergedArr, len1, len2 = 0, 0, [], len(arr1), len(arr2)\n",
    "        # 5. Do this until one of the array is fully traversed\n",
    "        while ptr1 < len1 and ptr2 < len2:\n",
    "            # 1. Check the first element of one array to another\n",
    "            if arr1[ptr1] <= arr2[ptr2]:\n",
    "                # 2. Place the smaller element in a new, merged array\n",
    "                mergedArr.append(arr1[ptr1])\n",
    "                # 3. For the array where you took the element from, move down one number. \n",
    "                ptr1 += 1\n",
    "            else:\n",
    "                # 2. Place the smaller element in a new, merged array\n",
    "                mergedArr.append(arr2[ptr2])\n",
    "                # 3. For the array where you took the element from, move down one number. \n",
    "                ptr2 += 1\n",
    "        # 5. Append what remains of the array with leftovers to the merged array list\n",
    "        if ptr1 < len1:\n",
    "            for n in arr1[ptr1:]:\n",
    "                mergedArr.append(n)\n",
    "        else:\n",
    "            for n in arr2[ptr2:]:\n",
    "                mergedArr.append(n)\n",
    "        \n",
    "        return mergedArr"
   ]
  },
  {
   "cell_type": "code",
   "execution_count": 4,
   "id": "chemical-thunder",
   "metadata": {},
   "outputs": [
    {
     "data": {
      "text/plain": [
       "[1, 2, 3, 4, 5, 6]"
      ]
     },
     "execution_count": 4,
     "metadata": {},
     "output_type": "execute_result"
    }
   ],
   "source": [
    "arr1 = [1,3,5]\n",
    "arr2 = [2,4,6]\n",
    "res  = [1,2,3,4,5,6]\n",
    "\n",
    "mergeTwoPtrCmp(arr1,arr2)"
   ]
  }
 ],
 "metadata": {
  "kernelspec": {
   "display_name": "Python 3",
   "language": "python",
   "name": "python3"
  },
  "language_info": {
   "codemirror_mode": {
    "name": "ipython",
    "version": 3
   },
   "file_extension": ".py",
   "mimetype": "text/x-python",
   "name": "python",
   "nbconvert_exporter": "python",
   "pygments_lexer": "ipython3",
   "version": "3.9.2"
  }
 },
 "nbformat": 4,
 "nbformat_minor": 5
}
