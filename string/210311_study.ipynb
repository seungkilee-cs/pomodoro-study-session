{
 "cells": [
  {
   "cell_type": "markdown",
   "id": "divided-oklahoma",
   "metadata": {},
   "source": [
    "# 2021/03/11 Study Session Questions"
   ]
  },
  {
   "cell_type": "markdown",
   "id": "serious-conversion",
   "metadata": {},
   "source": [
    "## 1. Reverse String"
   ]
  },
  {
   "cell_type": "markdown",
   "id": "electoral-diesel",
   "metadata": {},
   "source": [
    "## Problem\n",
    "Write a function reverse_words() that takes a message as a list of characters and reverses the order of the words in place.\n",
    "\n",
    "> Why a list of characters instead of a string?\n",
    "\n",
    "The goal of this question is to practice manipulating strings in place. Since we're modifying the message, we need a mutable ↴ type like a list, instead of Python 3.6's immutable strings."
   ]
  },
  {
   "cell_type": "markdown",
   "id": "automatic-scratch",
   "metadata": {},
   "source": [
    "## Observation\n",
    "1. I need to visit every element at least once to make sure everything flips\n",
    "2. In place would require no additional memory in regards to n\n",
    "\n",
    "-> Best case for the complexities are `O(N)` for time and `O(1)` for space"
   ]
  },
  {
   "cell_type": "markdown",
   "id": "isolated-utility",
   "metadata": {},
   "source": [
    "## Approach\n",
    "With Python magic, slicing will automatically give me what I want. `arr[start:end:step]` syntax shows that if I fo `[None:None:-1]` it will reversely traverse an entire list"
   ]
  },
  {
   "cell_type": "code",
   "execution_count": 1,
   "id": "defined-example",
   "metadata": {},
   "outputs": [],
   "source": [
    "def reverseWords(message: [str]) -> str:\n",
    "    if not message: return ''\n",
    "    # can just return message[::-1], python is smart\n",
    "    return ''.join(message[::-1])"
   ]
  },
  {
   "cell_type": "code",
   "execution_count": 2,
   "id": "international-witch",
   "metadata": {},
   "outputs": [
    {
     "data": {
      "text/plain": [
       "'hello world!'"
      ]
     },
     "execution_count": 2,
     "metadata": {},
     "output_type": "execute_result"
    }
   ],
   "source": [
    "# Test\n",
    "targetMsg = 'hello world!'\n",
    "testMsg = ['!', 'd', 'l', 'r', 'o', 'w', ' ', 'o', 'l', 'l', 'e', 'h']\n",
    "reverseWords(testMsg)"
   ]
  },
  {
   "cell_type": "markdown",
   "id": "rotary-commonwealth",
   "metadata": {},
   "source": [
    "## Non-Slicing Solution\n",
    "Slicing makes a copy of the existing array. How can we save this space?\n",
    "\n",
    "### Buffer and Replace\n",
    "To do this in constant space, I can do the following\n",
    "1. Start at the begining of the list, and assign two pointers one at the start of the array and one at the end of the array.\n",
    "2. Place `arr[0]` on the buffer\n",
    "3. copy over what's at `arr[len(arr)-1]` to `arr[0]`\n",
    "4. place what's in the buffer to `arr[len(arr)]`\n",
    "5. decrement end pointer and increment the start pointer\n",
    "6. repeat this until the two pointers cross."
   ]
  },
  {
   "cell_type": "code",
   "execution_count": 3,
   "id": "classical-writing",
   "metadata": {},
   "outputs": [],
   "source": [
    "# Buffer and Replace\n",
    "def bufferAndReplace(message: [str]) -> str:\n",
    "    if not message: return ''\n",
    "    \n",
    "    # ptrs and buffers\n",
    "    start, end, buffer = 0, len(message)-1, ''\n",
    "    \n",
    "    # 6. repeat this until the two pointers cross\n",
    "    while start < end:\n",
    "        # 2. Place `arr[0]` on the buffer\n",
    "        buffer = message[start]\n",
    "        # 3. copy over what's at `arr[len(arr)-1]` to `arr[0]`\n",
    "        message[start] = message[end]\n",
    "        # 4. place what's in the buffer to `arr[len(arr)]`\n",
    "        message[end] = buffer\n",
    "        # 5. decrement end pointer and increment the start pointer\n",
    "        end -= 1\n",
    "        start += 1\n",
    "    \n",
    "    return ''.join(message)"
   ]
  },
  {
   "cell_type": "code",
   "execution_count": 4,
   "id": "careful-metro",
   "metadata": {},
   "outputs": [
    {
     "data": {
      "text/plain": [
       "'hello world!'"
      ]
     },
     "execution_count": 4,
     "metadata": {},
     "output_type": "execute_result"
    }
   ],
   "source": [
    "# Test\n",
    "targetMsg = 'hello world!'\n",
    "testMsg = ['!', 'd', 'l', 'r', 'o', 'w', ' ', 'o', 'l', 'l', 'e', 'h']\n",
    "bufferAndReplace(testMsg)"
   ]
  },
  {
   "cell_type": "markdown",
   "id": "western-repeat",
   "metadata": {},
   "source": [
    "## Complexity\n",
    "\n",
    "### Time\n",
    "- Array Slicing in Python is `O(|i2 - i1|)` where `i2` is the ending index and `i1` is the starting index. In this case we need to visit every element in the array, so `O(n)`\n",
    "- Buffer and replace will go through each element once, thus `O(N)`\n",
    "\n",
    "*In both cases, we are ignoring the cost for joining the array.*\n",
    "\n",
    "### Space\n",
    "- List Slicing in Python has the same complexity as `O(N)` because slicing will create a copy and take the size of slice.\n",
    "- Buffer and replace will only take 3 more location in memory because it stores 2 pointers for the start and end pointer, and one to store char in the buffer. `O(3)` addtional memory is constant space, `O(1)`"
   ]
  },
  {
   "cell_type": "markdown",
   "id": "looking-interstate",
   "metadata": {},
   "source": [
    "## 2.Merge Array Sorted"
   ]
  },
  {
   "cell_type": "markdown",
   "id": "administrative-croatia",
   "metadata": {},
   "source": [
    "## Problem\n",
    "Each order is represented by an \"order id\" (an integer).\n",
    "We have our lists of orders sorted numerically already, in lists. Write a function to merge our lists of orders into one sorted list.\n",
    "For example:\n",
    "```python\n",
    "my_list     = [3, 4, 6, 10, 11, 15]\n",
    "alices_list = [1, 5, 8, 12, 14, 19]\n",
    "\n",
    "# Prints [1, 3, 4, 5, 6, 8, 10, 11, 12, 14, 15, 19]\n",
    "print(merge_lists(my_list, alices_list))\n",
    "```"
   ]
  },
  {
   "cell_type": "markdown",
   "id": "electrical-difference",
   "metadata": {},
   "source": [
    "### Observation\n",
    "1. Two lists contain only positive integers\n",
    "2. Two lists are sorted in their own order.\n",
    "3. Two lists are not necessarily of the same length\n",
    "4. I need to visit every element in both lists at least once to merge them completely\n",
    "\n",
    "### Approach\n",
    "\n",
    "#### Brute Force: Merge and Sort\n",
    "I can merge two lists first, then sort the merged list. Assuming we use quicksort, the complexity of this operation becomes O(n) + O(m) + O((n+m)log(n+m)), and the overall complexity will be capped by O((n+m)log(n+m)). Space complexity is O(m) because we will need to increase the size of the larger array by the size of the smaller array in order to append the two.\n",
    "\n",
    "1. merge the two lists\n",
    "2. sort the merged lists\n",
    "\n",
    "As we can assume that the total number of elements to go through would be n+m, we can reasonably assume that this will be O((2n)log(2n)) which will be O(nlogn).\n",
    "\n",
    "The bottle neck here is simply the complexity of the sort. How do we avoid sorting the merged list?\n",
    "\n",
    "#### two pointer comparison\n",
    "\n",
    "The least time complexity has to be O(n+m), where n and m are respective length of the lists. The length of two lists are not guaranteed to be the same.\n",
    "As a human, I would do the following\n",
    "\n",
    "1. Check the first elements of one array to another\n",
    "2. Place the smaller element in a new, merged array\n",
    "3. For the array where you took the element from, move down one number. \n",
    "4. Make the same comparison to the new element from array 1 and the current element form array 2\n",
    "4. Do this until one of the array is fully traversed\n",
    "5. Append what remains of the array with leftovers to the merged array list"
   ]
  },
  {
   "cell_type": "code",
   "execution_count": 5,
   "id": "chief-animation",
   "metadata": {},
   "outputs": [],
   "source": [
    "def mergeThenSort(arr1: [int], arr2:[int]) -> [int]:\n",
    "    mergedArr = arr1+arr2\n",
    "    mergedArr.sort()\n",
    "    return mergedArr"
   ]
  },
  {
   "cell_type": "code",
   "execution_count": 6,
   "id": "solved-header",
   "metadata": {},
   "outputs": [],
   "source": [
    "def mergeTwoPtrCmp(arr1: [int], arr2: [int]) -> [int]:\n",
    "        if not arr1 or not arr2: return arr1+arr2\n",
    "\n",
    "        ptr1, ptr2, mergedArr, len1, len2 = 0, 0, [], len(arr1), len(arr2)\n",
    "        # 5. Do this until one of the array is fully traversed\n",
    "        while ptr1 < len1 and ptr2 < len2:\n",
    "            # 1. Check the first element of one array to another\n",
    "            if arr1[ptr1] <= arr2[ptr2]:\n",
    "                # 2. Place the smaller element in a new, merged array\n",
    "                mergedArr.append(arr1[ptr1])\n",
    "                # 3. For the array where you took the element from, move down one number. \n",
    "                ptr1 += 1\n",
    "            else:\n",
    "                # 2. Place the smaller element in a new, merged array\n",
    "                mergedArr.append(arr2[ptr2])\n",
    "                # 3. For the array where you took the element from, move down one number. \n",
    "                ptr2 += 1\n",
    "        # 5. Append what remains of the array with leftovers to the merged array list\n",
    "        if ptr1 < len1:\n",
    "            for n in arr1[ptr1:]:\n",
    "                mergedArr.append(n)\n",
    "        else:\n",
    "            for n in arr2[ptr2:]:\n",
    "                mergedArr.append(n)\n",
    "        \n",
    "        return mergedArr"
   ]
  },
  {
   "cell_type": "code",
   "execution_count": 7,
   "id": "excessive-malaysia",
   "metadata": {},
   "outputs": [
    {
     "data": {
      "text/plain": [
       "[1, 2, 3, 4, 5, 6]"
      ]
     },
     "execution_count": 7,
     "metadata": {},
     "output_type": "execute_result"
    }
   ],
   "source": [
    "# test\n",
    "arr1 = [1,3,5]\n",
    "arr2 = [2,4,6]\n",
    "res  = [1,2,3,4,5,6]\n",
    "\n",
    "mergeTwoPtrCmp(arr1,arr2)"
   ]
  },
  {
   "cell_type": "code",
   "execution_count": 8,
   "id": "sacred-cartridge",
   "metadata": {},
   "outputs": [
    {
     "data": {
      "text/plain": [
       "[1, 2, 3, 4, 5, 6]"
      ]
     },
     "execution_count": 8,
     "metadata": {},
     "output_type": "execute_result"
    }
   ],
   "source": [
    "# test\n",
    "arr1 = [1,3,5]\n",
    "arr2 = [2,4,6]\n",
    "res  = [1,2,3,4,5,6]\n",
    "\n",
    "mergeThenSort(arr1, arr2)"
   ]
  },
  {
   "cell_type": "markdown",
   "id": "passive-threat",
   "metadata": {},
   "source": [
    "## Complexity\n",
    "\n",
    "### Time\n",
    "O(n+m) -> traverse both arrays\n",
    "\n",
    "### Space\n",
    "O(n+m) -> Additional space to copy over the full two arrays"
   ]
  },
  {
   "cell_type": "code",
   "execution_count": null,
   "id": "unlimited-mention",
   "metadata": {},
   "outputs": [],
   "source": []
  }
 ],
 "metadata": {
  "kernelspec": {
   "display_name": "Python 3",
   "language": "python",
   "name": "python3"
  },
  "language_info": {
   "codemirror_mode": {
    "name": "ipython",
    "version": 3
   },
   "file_extension": ".py",
   "mimetype": "text/x-python",
   "name": "python",
   "nbconvert_exporter": "python",
   "pygments_lexer": "ipython3",
   "version": "3.9.2"
  }
 },
 "nbformat": 4,
 "nbformat_minor": 5
}
