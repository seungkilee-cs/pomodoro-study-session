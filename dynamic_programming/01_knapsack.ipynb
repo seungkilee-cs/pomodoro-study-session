{
 "cells": [
  {
   "cell_type": "markdown",
   "id": "gorgeous-literacy",
   "metadata": {},
   "source": [
    "# 0-1 Knapsack Problem"
   ]
  },
  {
   "cell_type": "markdown",
   "id": "powerful-panama",
   "metadata": {},
   "source": [
    "0-1 Knapsack Problem is a branch of knapsack problem where you seek to optimize the utility via making optimal selection given a list of unbreakable utility."
   ]
  },
  {
   "cell_type": "markdown",
   "id": "religious-asset",
   "metadata": {},
   "source": [
    "# Observation"
   ]
  },
  {
   "cell_type": "markdown",
   "id": "second-floor",
   "metadata": {},
   "source": [
    "# Topdown Approach"
   ]
  },
  {
   "cell_type": "markdown",
   "id": "heavy-communication",
   "metadata": {},
   "source": [
    "## Brute Force"
   ]
  },
  {
   "cell_type": "code",
   "execution_count": 3,
   "id": "seasonal-printer",
   "metadata": {},
   "outputs": [],
   "source": [
    "def knapsack_topdown_bruteforce(profits: [int], weights: [int], capacity: int) -> int:\n",
    "    '''\n",
    "    main function to take and call the recursive helper on each state of the item\n",
    "    '''\n",
    "    return knapsack_topdown_bruteforce_helper(profits, weights, capacity, 0)\n",
    "\n",
    "def knapsack_topdown_bruteforce_helper(profits: [int], weights: [int], capacity: int, current_item: int) -> int:\n",
    "    '''\n",
    "    Generate all possible states -> What is a state? It is a representation of profits given the items in the bag and the remaining capacity.\n",
    "    '''\n",
    "\n",
    "    # base case\n",
    "    # At the bottom, we have either ran out of capacity or ran out of items to add\n",
    "    # In this case, our profit from this state is 0 because this state is not probable\n",
    "    if capacity <= 0 or current_item > len(profits):\n",
    "        return 0\n",
    "\n",
    "    # recursive case\n",
    "    # For each state, we can have 2 possible choices. Either select the item, or skip the item.\n",
    "    # The reason that we need to care about the case of skip is because we can have the total weight going over capacity. If so, our net return for that state is 0, so it makes sense for us to skip the item. Compare the two choices in the given state, and check what optimizes your score\n",
    "\n",
    "    # You take the item if you have capacity left to take it\n",
    "    if weights[current_item] <= capacity:\n",
    "        profit_select = profits[current_item] + knapsack_topdown_bruteforce_helper(profits, weights, capacity - weights[current_item], current_item + 1)\n",
    "    else: \n",
    "        profit_select = 0\n",
    "\n",
    "    profit_skip = knapsack_topdown_bruteforce_helper(profits, weights, capacity - weights[current_item], current_item + 1)\n",
    "\n",
    "    return max(profit_select, profit_skip)"
   ]
  },
  {
   "cell_type": "markdown",
   "id": "surgical-armor",
   "metadata": {},
   "source": [
    "## Dynamic Programming"
   ]
  },
  {
   "cell_type": "code",
   "execution_count": 4,
   "id": "medium-cursor",
   "metadata": {},
   "outputs": [],
   "source": [
    "def knapsack_topdown_dp(profits: [int], weights: [int], capacity: int) -> int:\n",
    "    '''\n",
    "    pass in the possible profit matrix cache and memoize as we go\n",
    "    * Mitch pointed out that using -1 to initialize this matrix will be useful because the profit cannot be less then 0\n",
    "    * Derek pointed out that if we see these states as \"visited\" as we see from other graph problems, we can \n",
    "    '''\n",
    "    # create the cache of matrix, for items x capacity state. range is inclusive for the starting index and exclusive for the ending index, so make sure to +1\n",
    "    cache = [[-1 for p in profits] for c in range(capacity + 1)]\n",
    "    return knapsack_topdown_dp_helper(profits, weights, capacity, 0, cache)\n",
    "\n",
    "def knapsack_topdown_dp_helper(profits: [int], weights: [int], capacity: int, current_item: int, cache: [[int]]) -> int:\n",
    "    # base case\n",
    "    if capacity <= 0 or current_item > len(profits):\n",
    "        return 0\n",
    "\n",
    "    # recursive case\n",
    "    # same as the bruteforce solution, but check if we have stored the state before we compute anything. After each computation, we store the result into the cache.\n",
    "    \n",
    "    # if the state has been visited and calculated\n",
    "    if cache[capacity][current_item] != -1:\n",
    "        return cache[capacity][current_item]\n",
    "    \n",
    "    # compute state value if it's not in the cache\n",
    "    if weights[current_item] <= capacity:\n",
    "        profit_select = profits[current_item] + knapsack_topdown_dp_helper(profits, weights, capacity - weights[current_item], current_item + 1, cache)\n",
    "    else: \n",
    "        profit_select = 0\n",
    "\n",
    "    profit_skip = knapsack_topdown_dp_helper(profits, weights, capacity - weights[current_item], current_item + 1, cache)\n",
    "\n",
    "    # write to cache\n",
    "    cache[capacity][current_item] = max(profit_select, profit_skip)\n",
    "    return cache[capacity, current_item]"
   ]
  },
  {
   "cell_type": "markdown",
   "id": "skilled-facility",
   "metadata": {},
   "source": [
    "# Test"
   ]
  },
  {
   "cell_type": "markdown",
   "id": "ancient-still",
   "metadata": {},
   "source": [
    "# Bottom Up Approach"
   ]
  },
  {
   "cell_type": "code",
   "execution_count": null,
   "id": "divine-tunnel",
   "metadata": {},
   "outputs": [],
   "source": []
  }
 ],
 "metadata": {
  "kernelspec": {
   "display_name": "Python 3",
   "language": "python",
   "name": "python3"
  },
  "language_info": {
   "codemirror_mode": {
    "name": "ipython",
    "version": 3
   },
   "file_extension": ".py",
   "mimetype": "text/x-python",
   "name": "python",
   "nbconvert_exporter": "python",
   "pygments_lexer": "ipython3",
   "version": "3.9.0"
  }
 },
 "nbformat": 4,
 "nbformat_minor": 5
}
