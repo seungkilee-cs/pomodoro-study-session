{
 "cells": [
  {
   "cell_type": "markdown",
   "id": "oriented-lyric",
   "metadata": {},
   "source": [
    "# Problem\n",
    "\n",
    "Hi, here's your problem today. This problem was recently asked by AirBNB:\n",
    "\n",
    "The power function calculates x raised to the nth power. If implemented in O(n) it would simply be a for loop over n and multiply x n times. Instead implement this power function in O(log n) time. You can assume that n will be a non-negative integer.\n",
    "\n",
    "Here's some starting code:\n",
    "\n",
    "```python\n",
    "def pow(x:int, n:int) -> int:\n",
    "  # Fill this in.\n",
    "\n",
    "print(pow(5, 3))\n",
    "# 125\n",
    "```"
   ]
  },
  {
   "cell_type": "markdown",
   "id": "registered-minute",
   "metadata": {},
   "source": [
    "# Observation\n",
    "- Definition of power suggests that brute force solution to this problem will yield `O(n)` time complexity\n",
    "- looking for `O(log n)` time complexity\n",
    "- Assume n is geq 0\n",
    "- There's no constraint on the space complexity\n",
    "\n",
    "Two things catch my eyes. \n",
    "1. Why give non negative n? This must mean negative power cannot be processed using the solution they want.\n",
    "2. Why not mention the space complexity? I understand we care less about space in general, but this specifies logarithmic time complexity. This alludes to trading off space complexity for time complexity.\n",
    "3. Specifically looking for log(n) time. Remember that log(n) time complexity requires the size of processed input to be halved for each iteration."
   ]
  },
  {
   "cell_type": "markdown",
   "id": "supported-slave",
   "metadata": {},
   "source": [
    "# Approach"
   ]
  },
  {
   "cell_type": "markdown",
   "id": "utility-briefing",
   "metadata": {},
   "source": [
    "Consider the following equality."
   ]
  },
  {
   "cell_type": "code",
   "execution_count": 1,
   "id": "accredited-retailer",
   "metadata": {},
   "outputs": [
    {
     "data": {
      "text/plain": [
       "True"
      ]
     },
     "execution_count": 1,
     "metadata": {},
     "output_type": "execute_result"
    }
   ],
   "source": [
    "(6**2)*(6**3) == 6**5"
   ]
  },
  {
   "cell_type": "markdown",
   "id": "domestic-front",
   "metadata": {},
   "source": [
    "we already know that by definition of exponents, $x^{n} = x^{m}(x^{n-m})$. \n",
    "\n",
    "Let's assume that `n` is always even. So what if n == 2m? then we can process the whole power by calculating $x^{n \\over 2}$ and multiply it by itself. This gives us n/2 amount of operations.\n",
    "\n",
    "What if n == 4m? then we can process everything in $n \\over 4$ time.\n",
    "\n",
    "We can see that by dividing the workload, we can halve the amount of processing at each point. Much like mergesort, this is a typical divide and conquer algorithm. "
   ]
  },
  {
   "cell_type": "markdown",
   "id": "continent-classics",
   "metadata": {},
   "source": [
    "# Code"
   ]
  },
  {
   "cell_type": "code",
   "execution_count": 2,
   "id": "peaceful-zambia",
   "metadata": {},
   "outputs": [],
   "source": [
    "def pow(x: int, n: int) -> int:\n",
    "    # Base Case, n == 0\n",
    "    if not n:\n",
    "        return 1\n",
    "    block = pow(x, n//2)\n",
    "    # Recursive Cases, multiply the block results to merge the parts\n",
    "    if n%2 == 1:\n",
    "        return block * block * x\n",
    "    else:\n",
    "        return block * block"
   ]
  },
  {
   "cell_type": "code",
   "execution_count": 3,
   "id": "under-healthcare",
   "metadata": {},
   "outputs": [],
   "source": [
    "def powIter(x: int, n:int) -> int:\n",
    "    # return value\n",
    "    ans = 1\n",
    "    \n",
    "    # We can do the same thing by breaking down n to 0\n",
    "    while n:\n",
    "        # odd case, building the \"block\"\n",
    "        if n%2 == 1:\n",
    "            ans = ans * x\n",
    "        # break down n\n",
    "        n = n//2\n",
    "        # Squaring the base to properly scale ans as we break down the exp\n",
    "        x = x * x\n",
    "    return ans"
   ]
  },
  {
   "cell_type": "markdown",
   "id": "graphic-vienna",
   "metadata": {},
   "source": [
    "# Test"
   ]
  },
  {
   "cell_type": "code",
   "execution_count": 4,
   "id": "biological-catalog",
   "metadata": {},
   "outputs": [
    {
     "name": "stdout",
     "output_type": "stream",
     "text": [
      "\u001b[32mPASS\u001b[0m\n",
      "\u001b[32mPASS\u001b[0m\n",
      "\u001b[32mPASS\u001b[0m\n",
      "\u001b[32mPASS\u001b[0m\n",
      "\u001b[32mPASS\u001b[0m\n",
      "\u001b[32mPASS\u001b[0m\n",
      "\u001b[32mPASS\u001b[0m\n",
      "\u001b[32mPASS\u001b[0m\n"
     ]
    }
   ],
   "source": [
    "from termcolor import colored\n",
    "\n",
    "def assertTest(expected, actual) -> None:\n",
    "    if expected == actual:\n",
    "        print(colored(\"PASS\", \"green\"))\n",
    "    else:\n",
    "        print(colored(\"FAIL\", \"red\"))\n",
    "\n",
    "assertTest(2**3, pow(2,3))\n",
    "assertTest(2**0, pow(2,0))\n",
    "assertTest(5**3, pow(5,3))\n",
    "assertTest(4**4, pow(4,4))\n",
    "\n",
    "assertTest(2**3, powIter(2,3))\n",
    "assertTest(2**0, powIter(2,0))\n",
    "assertTest(5**3, powIter(5,3))\n",
    "assertTest(4**4, powIter(4,4))"
   ]
  },
  {
   "cell_type": "markdown",
   "id": "honey-closure",
   "metadata": {},
   "source": [
    "# Analysis"
   ]
  },
  {
   "cell_type": "markdown",
   "id": "overall-stomach",
   "metadata": {},
   "source": [
    "## Time\n",
    "We are halving the n until it hits 0 by integer division and performing multiplication according to this depth which is `log n`. Thus we have `O(log n)` for time complexity.\n",
    "\n",
    "## Space\n",
    "Recursive Divide and Conquer requires memory to hold the recursion calls so it will be `O(log n)`. While less intuitive, the iterative solution only requires `O(1)` space to hold `ans`"
   ]
  }
 ],
 "metadata": {
  "kernelspec": {
   "display_name": "Python 3",
   "language": "python",
   "name": "python3"
  },
  "language_info": {
   "codemirror_mode": {
    "name": "ipython",
    "version": 3
   },
   "file_extension": ".py",
   "mimetype": "text/x-python",
   "name": "python",
   "nbconvert_exporter": "python",
   "pygments_lexer": "ipython3",
   "version": "3.9.2"
  },
  "metadata": {
   "interpreter": {
    "hash": "fc281b9be89837112700caab897c1940d4af69a39a030a1eeafe7a84784856c2"
   }
  }
 },
 "nbformat": 4,
 "nbformat_minor": 5
}
