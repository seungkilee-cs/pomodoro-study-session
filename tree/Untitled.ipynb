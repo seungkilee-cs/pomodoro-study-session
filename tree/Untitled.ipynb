{
 "cells": [
  {
   "cell_type": "code",
   "execution_count": null,
   "id": "greek-barrier",
   "metadata": {},
   "outputs": [],
   "source": []
  },
  {
   "cell_type": "markdown",
   "id": "durable-stocks",
   "metadata": {},
   "source": [
    "## Code"
   ]
  },
  {
   "cell_type": "code",
   "execution_count": 15,
   "id": "welcome-lover",
   "metadata": {},
   "outputs": [],
   "source": [
    "class BinaryTreeNode(object):\n",
    "\n",
    "    def __init__(self, value):\n",
    "        self.value = value\n",
    "        self.left  = None\n",
    "        self.right = None\n",
    "    \n",
    "    def insert(self, value):\n",
    "        if value <= self.value:\n",
    "            self.left = BinaryTreeNode(value)\n",
    "            return self.left\n",
    "        else:\n",
    "            self.right = BinaryTreeNode(value)\n",
    "            return self.right\n",
    "    def printTree(self, node):\n",
    "        if node:\n",
    "            print(node.value)\n",
    "            self.printTree(node.left)            \n",
    "            self.printTree(node.right)"
   ]
  },
  {
   "cell_type": "code",
   "execution_count": 48,
   "id": "alternate-australian",
   "metadata": {},
   "outputs": [
    {
     "data": {
      "text/plain": [
       "<__main__.BinaryTreeNode at 0x1f92972b9a0>"
      ]
     },
     "execution_count": 48,
     "metadata": {},
     "output_type": "execute_result"
    }
   ],
   "source": [
    "tree = BinaryTreeNode(5)\n",
    "tree.insert(4)\n",
    "tree.insert(6)\n",
    "tree.left.insert(1)\n",
    "tree.right.insert(9)\n",
    "tree.left.insert(2)\n",
    "tree.right.insert(8)"
   ]
  },
  {
   "cell_type": "code",
   "execution_count": 49,
   "id": "controlled-atlanta",
   "metadata": {},
   "outputs": [
    {
     "name": "stdout",
     "output_type": "stream",
     "text": [
      "5\n",
      "4\n",
      "2\n",
      "6\n",
      "8\n"
     ]
    }
   ],
   "source": [
    "tree.printTree(tree)"
   ]
  },
  {
   "cell_type": "code",
   "execution_count": 38,
   "id": "occupational-territory",
   "metadata": {},
   "outputs": [],
   "source": [
    "def visit(node, visited):\n",
    "    if not node or visited >= 2:\n",
    "        return None\n",
    "    visit(node.right, visited)\n",
    "    visited += 1\n",
    "    if visited == 2:\n",
    "        print(node.value)\n",
    "        return\n",
    "    visit(node.left, visited)"
   ]
  },
  {
   "cell_type": "code",
   "execution_count": 39,
   "id": "athletic-sugar",
   "metadata": {},
   "outputs": [],
   "source": [
    "def secondLargest(node):\n",
    "    visited = 0\n",
    "    visit(node, visited)"
   ]
  },
  {
   "cell_type": "code",
   "execution_count": 40,
   "id": "fallen-inspection",
   "metadata": {},
   "outputs": [
    {
     "name": "stdout",
     "output_type": "stream",
     "text": [
      "4\n"
     ]
    }
   ],
   "source": [
    "secondLargest(tree)"
   ]
  },
  {
   "cell_type": "code",
   "execution_count": 45,
   "id": "western-vermont",
   "metadata": {},
   "outputs": [],
   "source": [
    "def visit(root, c): \n",
    "    if not root or c >= 2:  \n",
    "        return\n",
    "    visit(root.right, c) \n",
    "    c += 1\n",
    "    if c == 2: \n",
    "        print(root.value) \n",
    "        return\n",
    "    visit(root.left, c) "
   ]
  },
  {
   "cell_type": "code",
   "execution_count": 46,
   "id": "abandoned-scenario",
   "metadata": {},
   "outputs": [],
   "source": [
    "def secondLargest(node):\n",
    "    visited = 0\n",
    "    visit(node, visited)"
   ]
  },
  {
   "cell_type": "code",
   "execution_count": 47,
   "id": "original-header",
   "metadata": {},
   "outputs": [
    {
     "name": "stdout",
     "output_type": "stream",
     "text": [
      "4\n"
     ]
    }
   ],
   "source": [
    "secondLargest(tree)"
   ]
  },
  {
   "cell_type": "code",
   "execution_count": null,
   "id": "impressive-cycling",
   "metadata": {},
   "outputs": [],
   "source": []
  }
 ],
 "metadata": {
  "kernelspec": {
   "display_name": "Python 3",
   "language": "python",
   "name": "python3"
  },
  "language_info": {
   "codemirror_mode": {
    "name": "ipython",
    "version": 3
   },
   "file_extension": ".py",
   "mimetype": "text/x-python",
   "name": "python",
   "nbconvert_exporter": "python",
   "pygments_lexer": "ipython3",
   "version": "3.9.2"
  }
 },
 "nbformat": 4,
 "nbformat_minor": 5
}
